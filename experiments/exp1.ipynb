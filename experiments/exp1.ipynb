{
 "cells": [
  {
   "cell_type": "markdown",
   "metadata": {},
   "source": [
    "# Basis pursuit with a single \"Gaussian\" observation"
   ]
  },
  {
   "cell_type": "markdown",
   "metadata": {},
   "source": [
    "Let $y\\in\\mathbb{R}, \\sigma\\in\\mathbb{R}_+^*$ and consider \n",
    "\n",
    "$$\n",
    "\\underset{u\\in L^2(\\mathbb{R}^2)}{\\text{inf}} ~ |Du|(\\mathbb{R}^2) \\text{ s.t. } \n",
    "\\int_{\\mathbb{R}^2}\\text{exp}(-\\frac{||x||^2}{2\\sigma^2}) ~ u(x) ~ dx = y\n",
    "$$\n",
    "\n",
    "One can show that there exists a solution of the form $u_{\\alpha,R}=\\alpha\\,\\mathbb{1}_{B(0, R)}$\n",
    "\n",
    "Now one can also show that $u_{\\alpha,R}$ is a solution if and only if $R=\\sigma$ and \n",
    "$\\alpha=y \\, / \\, [2\\pi\\sigma^2(1-\\text{exp}(-1/2))]$\n",
    "\n",
    "Let us investigate whether we are able to recover this result numerically or not ..."
   ]
  },
  {
   "cell_type": "code",
   "execution_count": 1,
   "metadata": {
    "pycharm": {
     "is_executing": false
    }
   },
   "outputs": [],
   "source": [
    "import numpy as np\n",
    "\n",
    "from math import pi, exp\n",
    "\n",
    "from tvsfw import GaussianPolynomial"
   ]
  },
  {
   "cell_type": "code",
   "execution_count": 2,
   "metadata": {
    "pycharm": {
     "name": "#%%\n"
    }
   },
   "outputs": [],
   "source": [
    "sigma = 1.0\n",
    "y = 2 * pi * sigma ** 2 * (1 - exp(-1/2))"
   ]
  }
 ],
 "metadata": {
  "kernelspec": {
   "display_name": "Python 3",
   "language": "python",
   "name": "python3"
  },
  "language_info": {
   "codemirror_mode": {
    "name": "ipython",
    "version": 3
   },
   "file_extension": ".py",
   "mimetype": "text/x-python",
   "name": "python",
   "nbconvert_exporter": "python",
   "pygments_lexer": "ipython3",
   "version": "3.7.4"
  },
  "pycharm": {
   "stem_cell": {
    "cell_type": "raw",
    "metadata": {
     "collapsed": false
    },
    "source": []
   }
  }
 },
 "nbformat": 4,
 "nbformat_minor": 1
}
