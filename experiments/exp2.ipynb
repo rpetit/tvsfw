{
 "cells": [
  {
   "cell_type": "markdown",
   "metadata": {},
   "source": [
    "# LASSO with a single \"Gaussian\" observation"
   ]
  },
  {
   "cell_type": "markdown",
   "metadata": {},
   "source": [
    "Let $y\\in\\mathbb{R}, \\sigma\\in\\mathbb{R}_+^*$ and consider \n",
    "\n",
    "$$\n",
    "\\underset{u\\in L^2(\\mathbb{R}^2)}{\\text{inf}} ~ \\frac{1}{2}\\left(\\int_{\\mathbb{R}^2}\\text{exp}(-\\frac{||x||^2}{2\\sigma^2}) ~ u(x) ~ dx - y\\right)^2 + \\lambda |Du|(\\mathbb{R}^2)\n",
    "$$\n",
    "\n",
    "One can show that there exists a solution of the form $u_{\\alpha,R}=a\\,\\mathbb{1}_{B(0, R)}$\n",
    "\n",
    "Now one can also show that $u_{\\alpha,R}$ is a solution if and only if $R$ satisfies $1+\\frac{R^2}{\\sigma^2}=\\text{exp}(\\frac{R^2}{2\\sigma^2})$ and \n",
    "$a=y \\, / \\, [2\\pi\\sigma^2(1-\\text{exp}(-1/2))]$\n",
    "\n",
    "Let us investigate whether we are able to recover this result numerically or not ..."
   ]
  },
  {
   "cell_type": "markdown",
   "metadata": {},
   "source": [
    "## Numerics"
   ]
  },
  {
   "cell_type": "markdown",
   "metadata": {},
   "source": [
    "PyCheeger commit : 872cdb0a2c9deef14c3d99b0e6805292eba24ca6\n",
    "<br/>\n",
    "tvsfw commit : c42d516501c7a0ee761be79a6f7b56927a0a9f69"
   ]
  },
  {
   "cell_type": "code",
   "execution_count": 1,
   "metadata": {
    "pycharm": {
     "is_executing": false
    }
   },
   "outputs": [],
   "source": [
    "import numpy as np\n",
    "import matplotlib.pyplot as plt\n",
    "\n",
    "from math import pi, exp\n",
    "from scipy.optimize import minimize\n",
    "\n",
    "from pycheeger import compute_cheeger, Disk\n",
    "from tvsfw import GaussianPolynomial, SampledGaussianKernel, WeightedIndicatorFunction, SimpleFunction"
   ]
  },
  {
   "cell_type": "code",
   "execution_count": 2,
   "metadata": {
    "pycharm": {
     "name": "#%%\n"
    }
   },
   "outputs": [],
   "source": [
    "sigma = 0.3\n",
    "alpha = 1e-2  # regularization parameter"
   ]
  },
  {
   "cell_type": "code",
   "execution_count": 3,
   "metadata": {},
   "outputs": [
    {
     "name": "stdout",
     "output_type": "stream",
     "text": [
      "theoretical optimal radius: 0.47556030828963447\n"
     ]
    }
   ],
   "source": [
    "r_opt = minimize(lambda x: x / (1 - exp(-x**2 / (2 * sigma**2))), sigma).x[0]\n",
    "print(\"theoretical optimal radius: {}\".format(r_opt))"
   ]
  },
  {
   "cell_type": "code",
   "execution_count": 4,
   "metadata": {},
   "outputs": [],
   "source": [
    "y = 2 * pi * sigma ** 2 * (1 - exp(-r_opt ** 2/ (2 * sigma ** 2)))  # we here define y so that ..."
   ]
  },
  {
   "cell_type": "code",
   "execution_count": 5,
   "metadata": {},
   "outputs": [],
   "source": [
    "grid = np.array([[[0, 0]]])\n",
    "phi = SampledGaussianKernel(grid, sigma)\n",
    "eta = GaussianPolynomial(grid, np.array([[y]]), sigma)"
   ]
  },
  {
   "cell_type": "code",
   "execution_count": 6,
   "metadata": {},
   "outputs": [
    {
     "ename": "TypeError",
     "evalue": "triangulate() got an unexpected keyword argument 'max_area'",
     "output_type": "error",
     "traceback": [
      "\u001b[0;31m---------------------------------------------------------------------------\u001b[0m",
      "\u001b[0;31mTypeError\u001b[0m                                 Traceback (most recent call last)",
      "\u001b[0;32m<ipython-input-6-370dd1cff5eb>\u001b[0m in \u001b[0;36m<module>\u001b[0;34m\u001b[0m\n\u001b[1;32m      1\u001b[0m E, obj_tab, grad_norm_tab = compute_cheeger(eta, max_tri_area=0.001, max_primal_dual_iter=20000, max_iter=5000, convergence_tol=1e-7,\n\u001b[0;32m----> 2\u001b[0;31m                           plot_results=True)\n\u001b[0m",
      "\u001b[0;32m~/Documents/these/code/python/pycheeger/pycheeger/compute_cheeger.py\u001b[0m in \u001b[0;36mcompute_cheeger\u001b[0;34m(eta, max_tri_area, max_primal_dual_iter, step_size, max_iter, convergence_tol, plot_results, num_points)\u001b[0m\n\u001b[1;32m     13\u001b[0m \u001b[0;34m\u001b[0m\u001b[0m\n\u001b[1;32m     14\u001b[0m     \u001b[0mvertices\u001b[0m \u001b[0;34m=\u001b[0m \u001b[0mnp\u001b[0m\u001b[0;34m.\u001b[0m\u001b[0marray\u001b[0m\u001b[0;34m(\u001b[0m\u001b[0;34m[\u001b[0m\u001b[0;34m[\u001b[0m\u001b[0;34m-\u001b[0m\u001b[0;36m1.0\u001b[0m\u001b[0;34m,\u001b[0m \u001b[0;34m-\u001b[0m\u001b[0;36m1.0\u001b[0m\u001b[0;34m]\u001b[0m\u001b[0;34m,\u001b[0m \u001b[0;34m[\u001b[0m\u001b[0;36m1.0\u001b[0m\u001b[0;34m,\u001b[0m \u001b[0;34m-\u001b[0m\u001b[0;36m1.0\u001b[0m\u001b[0;34m]\u001b[0m\u001b[0;34m,\u001b[0m \u001b[0;34m[\u001b[0m\u001b[0;36m1.0\u001b[0m\u001b[0;34m,\u001b[0m \u001b[0;36m1.0\u001b[0m\u001b[0;34m]\u001b[0m\u001b[0;34m,\u001b[0m \u001b[0;34m[\u001b[0m\u001b[0;34m-\u001b[0m\u001b[0;36m1.0\u001b[0m\u001b[0;34m,\u001b[0m \u001b[0;36m1.0\u001b[0m\u001b[0;34m]\u001b[0m\u001b[0;34m]\u001b[0m\u001b[0;34m)\u001b[0m\u001b[0;34m\u001b[0m\u001b[0;34m\u001b[0m\u001b[0m\n\u001b[0;32m---> 15\u001b[0;31m     \u001b[0mraw_mesh\u001b[0m \u001b[0;34m=\u001b[0m \u001b[0mtriangulate\u001b[0m\u001b[0;34m(\u001b[0m\u001b[0mvertices\u001b[0m\u001b[0;34m,\u001b[0m \u001b[0mmax_area\u001b[0m\u001b[0;34m=\u001b[0m\u001b[0mmax_tri_area\u001b[0m\u001b[0;34m)\u001b[0m\u001b[0;34m\u001b[0m\u001b[0;34m\u001b[0m\u001b[0m\n\u001b[0m\u001b[1;32m     16\u001b[0m     \u001b[0mmesh\u001b[0m \u001b[0;34m=\u001b[0m \u001b[0mMesh\u001b[0m\u001b[0;34m(\u001b[0m\u001b[0mraw_mesh\u001b[0m\u001b[0;34m.\u001b[0m\u001b[0mvertices\u001b[0m\u001b[0;34m,\u001b[0m \u001b[0mraw_mesh\u001b[0m\u001b[0;34m.\u001b[0m\u001b[0mfaces\u001b[0m\u001b[0;34m)\u001b[0m\u001b[0;34m\u001b[0m\u001b[0;34m\u001b[0m\u001b[0m\n\u001b[1;32m     17\u001b[0m \u001b[0;34m\u001b[0m\u001b[0m\n",
      "\u001b[0;31mTypeError\u001b[0m: triangulate() got an unexpected keyword argument 'max_area'"
     ]
    }
   ],
   "source": [
    "E, obj_tab, grad_norm_tab = compute_cheeger(eta, max_tri_area=0.001, max_primal_dual_iter=20000, max_iter=5000, convergence_tol=1e-7,\n",
    "                          plot_results=True)"
   ]
  },
  {
   "cell_type": "code",
   "execution_count": null,
   "metadata": {},
   "outputs": [],
   "source": [
    "np.linalg.norm((E.compute_perimeter() * E.compute_weighted_area_gradient(eta) - E.compute_perimeter_gradient() * E.compute_weighted_area(eta)) / E.compute_weighted_area(eta)**2)"
   ]
  },
  {
   "cell_type": "code",
   "execution_count": null,
   "metadata": {},
   "outputs": [],
   "source": [
    "np.sum(E.boundary_vertices, axis=0) / len(E.boundary_vertices)"
   ]
  },
  {
   "cell_type": "code",
   "execution_count": null,
   "metadata": {},
   "outputs": [],
   "source": [
    "np.linalg.norm(E.boundary_vertices - np.sum(E.boundary_vertices, axis=0) / len(E.boundary_vertices), axis=1)"
   ]
  },
  {
   "cell_type": "code",
   "execution_count": null,
   "metadata": {},
   "outputs": [],
   "source": [
    "np.linalg.norm(E.boundary_vertices, axis=1)"
   ]
  },
  {
   "cell_type": "code",
   "execution_count": null,
   "metadata": {},
   "outputs": [],
   "source": [
    "np.linalg.norm(E.boundary_vertices[1:] - E.boundary_vertices[:-1], axis=1)"
   ]
  },
  {
   "cell_type": "code",
   "execution_count": null,
   "metadata": {},
   "outputs": [],
   "source": [
    "u_hat = SimpleFunction([WeightedIndicatorFunction(0, E)])"
   ]
  },
  {
   "cell_type": "markdown",
   "metadata": {},
   "source": [
    "No need to perform a LASSO to get the weight, it is entirely determined (single observation)"
   ]
  },
  {
   "cell_type": "code",
   "execution_count": null,
   "metadata": {},
   "outputs": [],
   "source": [
    "def soft_thresh(x, lala):\n",
    "    return np.sign(x) * np.max(x - lala, 0)"
   ]
  },
  {
   "cell_type": "code",
   "execution_count": null,
   "metadata": {},
   "outputs": [],
   "source": [
    "obs = u_hat.compute_obs(phi, version=1)\n",
    "coeff = np.sum(obs[0], axis=0)[0, 0]\n",
    "weight = soft_thresh(y / coeff, alpha / coeff ** 2)\n",
    "u_hat.atoms = [WeightedIndicatorFunction(weight, E)]"
   ]
  },
  {
   "cell_type": "markdown",
   "metadata": {},
   "source": [
    "After adding a new atom to the support and performing a LASSO on the weights, we get the weighted indicator function of a disk with weight and radius given above.\n",
    "\n",
    "<br/>\n",
    "\n",
    "We can check that if we denote this function $\\hat{u}$ we have \n",
    "$$\\int_{\\mathbb{R}^2}\\hat{u}~\\text{exp}(-\\frac{||x||^2}{2\\sigma^2})~dx=y$$\n"
   ]
  },
  {
   "cell_type": "code",
   "execution_count": null,
   "metadata": {},
   "outputs": [],
   "source": [
    "radius = np.mean(np.linalg.norm(u_hat.atoms[0].support.boundary_vertices, axis=1))\n",
    "\n",
    "print(\"radius: {}\".format(radius))\n",
    "print(\"weight: {}\".format(weight))"
   ]
  },
  {
   "cell_type": "code",
   "execution_count": null,
   "metadata": {},
   "outputs": [],
   "source": [
    "y / coeff - alpha / coeff ** 2"
   ]
  },
  {
   "cell_type": "markdown",
   "metadata": {},
   "source": [
    "The estimated radius moreover approximately satisfies the optimality equation given at the beginning"
   ]
  },
  {
   "cell_type": "code",
   "execution_count": null,
   "metadata": {},
   "outputs": [],
   "source": [
    "print(1 + radius ** 2 / sigma ** 2)\n",
    "print(exp(radius ** 2 / (2 * sigma ** 2)))"
   ]
  },
  {
   "cell_type": "code",
   "execution_count": null,
   "metadata": {},
   "outputs": [],
   "source": [
    "1 - alpha * radius / (sigma ** 2 * y * (1 - exp(-radius ** 2 / (2 * sigma ** 2))))"
   ]
  },
  {
   "cell_type": "code",
   "execution_count": null,
   "metadata": {},
   "outputs": [],
   "source": [
    "obj_tab, grad_norm_tab = u_hat.perform_sliding(y, phi, alpha, 0.1, 500, 1e-7)"
   ]
  },
  {
   "cell_type": "code",
   "execution_count": null,
   "metadata": {},
   "outputs": [],
   "source": [
    "import matplotlib.pyplot as plt"
   ]
  },
  {
   "cell_type": "code",
   "execution_count": null,
   "metadata": {},
   "outputs": [],
   "source": [
    "plt.plot(obj_tab);"
   ]
  },
  {
   "cell_type": "code",
   "execution_count": null,
   "metadata": {},
   "outputs": [],
   "source": [
    "plt.plot(grad_norm_tab);"
   ]
  },
  {
   "cell_type": "code",
   "execution_count": null,
   "metadata": {},
   "outputs": [],
   "source": [
    "radius = np.mean(np.linalg.norm(u_hat.atoms[0].support.boundary_vertices, axis=1))\n",
    "\n",
    "print(\"radius: {}\".format(radius))\n",
    "print(\"weight: {}\".format(weight))"
   ]
  }
 ],
 "metadata": {
  "kernelspec": {
   "display_name": "Python 3",
   "language": "python",
   "name": "python3"
  },
  "language_info": {
   "codemirror_mode": {
    "name": "ipython",
    "version": 3
   },
   "file_extension": ".py",
   "mimetype": "text/x-python",
   "name": "python",
   "nbconvert_exporter": "python",
   "pygments_lexer": "ipython3",
   "version": "3.7.4"
  },
  "pycharm": {
   "stem_cell": {
    "cell_type": "raw",
    "metadata": {
     "collapsed": false
    },
    "source": []
   }
  }
 },
 "nbformat": 4,
 "nbformat_minor": 1
}
